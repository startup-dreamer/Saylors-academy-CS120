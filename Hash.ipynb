{
 "cells": [
  {
   "cell_type": "code",
   "execution_count": 1,
   "metadata": {},
   "outputs": [],
   "source": [
    "import hashlib"
   ]
  },
  {
   "cell_type": "code",
   "execution_count": 2,
   "metadata": {},
   "outputs": [
    {
     "name": "stdout",
     "output_type": "stream",
     "text": [
      "This is my string :  python is fun\n"
     ]
    }
   ],
   "source": [
    "myString = 'python is fun'\n",
    "print('This is my string : ', myString)"
   ]
  },
  {
   "cell_type": "code",
   "execution_count": 6,
   "metadata": {},
   "outputs": [
    {
     "name": "stdout",
     "output_type": "stream",
     "text": [
      "<sha256 _hashlib.HASH object @ 0x0000020A9ABFDF50>\n"
     ]
    }
   ],
   "source": [
    "myhash = hashlib.sha256(myString.encode())\n",
    "print(myhash)"
   ]
  },
  {
   "cell_type": "code",
   "execution_count": 7,
   "metadata": {},
   "outputs": [
    {
     "name": "stdout",
     "output_type": "stream",
     "text": [
      "Your SHA256 hash is: 9c8d1813800cb80636c84585c5adc947ad2d49acba1a6ccb97b7745cc85aea68\n"
     ]
    }
   ],
   "source": [
    "print('Your SHA256 hash is:', myhash.hexdigest())"
   ]
  },
  {
   "cell_type": "code",
   "execution_count": 8,
   "metadata": {},
   "outputs": [
    {
     "name": "stdout",
     "output_type": "stream",
     "text": [
      "The length of your hash is: 64\n"
     ]
    }
   ],
   "source": [
    "print('The length of your hash is:', len(myhash.hexdigest()))\n"
   ]
  }
 ],
 "metadata": {
  "kernelspec": {
   "display_name": "Python 3",
   "language": "python",
   "name": "python3"
  },
  "language_info": {
   "codemirror_mode": {
    "name": "ipython",
    "version": 3
   },
   "file_extension": ".py",
   "mimetype": "text/x-python",
   "name": "python",
   "nbconvert_exporter": "python",
   "pygments_lexer": "ipython3",
   "version": "3.10.2 (tags/v3.10.2:a58ebcc, Jan 17 2022, 14:12:15) [MSC v.1929 64 bit (AMD64)]"
  },
  "orig_nbformat": 4,
  "vscode": {
   "interpreter": {
    "hash": "a0217f06a62138e483dab107d7f21cc1b1b7e3ebfa22844d92b3686e7ba8d4ce"
   }
  }
 },
 "nbformat": 4,
 "nbformat_minor": 2
}
