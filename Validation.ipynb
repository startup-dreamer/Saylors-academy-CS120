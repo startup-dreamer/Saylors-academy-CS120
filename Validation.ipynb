{
 "cells": [
  {
   "cell_type": "code",
   "execution_count": 1,
   "metadata": {},
   "outputs": [],
   "source": [
    "from ecdsa import SigningKey, SECP256k1"
   ]
  },
  {
   "cell_type": "code",
   "execution_count": 3,
   "metadata": {},
   "outputs": [
    {
     "data": {
      "text/plain": [
       "<ecdsa.keys.SigningKey at 0x24eeed45d80>"
      ]
     },
     "execution_count": 3,
     "metadata": {},
     "output_type": "execute_result"
    }
   ],
   "source": [
    "sk = SigningKey.generate(curve = SECP256k1)\n"
   ]
  },
  {
   "cell_type": "code",
   "execution_count": 4,
   "metadata": {},
   "outputs": [
    {
     "data": {
      "text/plain": [
       "VerifyingKey.from_string(b'\\x03$\\xcb\\xdf\\xed2u_pf-\\xc7\\x1c\\xdc\\x8d\\x94\\x0e3h\\x1e8\\xa3\\xb0\\xed`\\xb2\\xb0\\x1e\\xf1[P\\xed\\x02', SECP256k1, sha1)"
      ]
     },
     "execution_count": 4,
     "metadata": {},
     "output_type": "execute_result"
    }
   ],
   "source": [
    "vk = sk.verifying_key"
   ]
  },
  {
   "cell_type": "code",
   "execution_count": 6,
   "metadata": {},
   "outputs": [
    {
     "data": {
      "text/plain": [
       "b'X\\xe18F\\xc7\\xf3d\\xc5\\xc0\\xa1er\\xcd\\x86\\xc0\\xfc\\xd1\\xb0\\xfa\\xd7\\xa4\\xc6\\xa6\\xbb\\x8a\\x9bD\\x82_\\xff^\\xc6\\x8f\\x908\\n\\xb1\\xb5\\x89\\xecZ\\x0cM>\\x14\\xa4q\\xec7VO\\xd4?o>;x\\xf0w\\xffH.P\\xac'"
      ]
     },
     "execution_count": 6,
     "metadata": {},
     "output_type": "execute_result"
    }
   ],
   "source": [
    "signature = sk.sign(b\"Not your keys, not your coins!\")"
   ]
  },
  {
   "cell_type": "code",
   "execution_count": 11,
   "metadata": {},
   "outputs": [
    {
     "data": {
      "text/plain": [
       "True"
      ]
     },
     "execution_count": 11,
     "metadata": {},
     "output_type": "execute_result"
    }
   ],
   "source": [
    "sol = vk.verify(signature, b\"Not your keys, not your coins!\")\n",
    "sol"
   ]
  }
 ],
 "metadata": {
  "kernelspec": {
   "display_name": "Python 3",
   "language": "python",
   "name": "python3"
  },
  "language_info": {
   "codemirror_mode": {
    "name": "ipython",
    "version": 3
   },
   "file_extension": ".py",
   "mimetype": "text/x-python",
   "name": "python",
   "nbconvert_exporter": "python",
   "pygments_lexer": "ipython3",
   "version": "3.10.2 (tags/v3.10.2:a58ebcc, Jan 17 2022, 14:12:15) [MSC v.1929 64 bit (AMD64)]"
  },
  "orig_nbformat": 4,
  "vscode": {
   "interpreter": {
    "hash": "a0217f06a62138e483dab107d7f21cc1b1b7e3ebfa22844d92b3686e7ba8d4ce"
   }
  }
 },
 "nbformat": 4,
 "nbformat_minor": 2
}
